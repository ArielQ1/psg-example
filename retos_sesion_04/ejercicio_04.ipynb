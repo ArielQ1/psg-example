{
 "cells": [
  {
   "cell_type": "markdown",
   "metadata": {},
   "source": [
    "# Ajedrez\n",
    "\n",
    "El ajedrez es un juego de estrategia entre dos jugadores que se juega en un tablero de 8x8 casillas. Cada jugador comienza con un conjunto de 16 piezas: 1 rey, 1 reina, 2 torres, 2 caballos, 2 alfiles y 8 peones. El objetivo del juego es dar jaque mate al rey del oponente, lo que significa que el rey está amenazado y no tiene movimientos legales para escapar."
   ]
  },
  {
   "cell_type": "markdown",
   "metadata": {},
   "source": [
    "# Reglas\n",
    "\n",
    "## Captura de piezas\n",
    "\n",
    "- Una pieza captura a otra si se mueve a la casilla que ocupa la pieza enemiga.\n",
    "- El rey no puede moverse a una casilla que esté amenazada por una pieza enemiga.\n",
    "- El jaque es cuando el rey está amenazado por una pieza enemiga.\n",
    "- El jaque mate es cuando el rey está en jaque y no hay movimientos legales para escapar.\n",
    "\n",
    "## Promoción de peones\n",
    "\n",
    "- Si un peón alcanza la última fila del tablero, se puede promover a una dama, torre, alfil o caballo.\n",
    "\n",
    "## Enroque\n",
    "\n",
    "- Es un movimiento especial en el que el rey se mueve dos casillas hacia una de sus torres y la torre se coloca en la casilla adyacente al rey.\n"
   ]
  },
  {
   "cell_type": "code",
   "execution_count": 9,
   "metadata": {},
   "outputs": [
    {
     "name": "stdout",
     "output_type": "stream",
     "text": [
      "  a  b  c  d  e f  g h\n",
      "8 ♜ ♞ ♝ ♛ ♚ ♝ ♞ ♜ 8\n",
      "6 .  .  .  . .  .  . .  6\n",
      "5 .  .  .  . .  .  . .  5\n",
      "4 .  .  .  . .  .  . .  4\n",
      "3 .  .  .  . .  .  . .  3\n",
      "2 ♙ ♙ ♙ ♙ ♙ ♙ ♙ ♙ 2\n",
      "1 ♖ ♘ ♗ ♕ ♔ ♗ ♘ ♖ 1\n",
      "  a  b  c  d  e f  g h\n"
     ]
    }
   ],
   "source": [
    "print(\"  a  b  c  d  e f  g h\")\n",
    "print(\"8 ♜ ♞ ♝ ♛ ♚ ♝ ♞ ♜ 8\")\n",
    "print(\"7 ♟ ♟ ♟ ♟ ♟ ♟ ♟ ♟ 7\")\n",
    "print(\"6 .  .  .  . .  .  . .  6\")\n",
    "print(\"5 .  .  .  . .  .  . .  5\")\n",
    "print(\"4 .  .  .  . .  .  . .  4\")\n",
    "print(\"3 .  .  .  . .  .  . .  3\")\n",
    "print(\"2 ♙ ♙ ♙ ♙ ♙ ♙ ♙ ♙ 2\")\n",
    "print(\"1 ♖ ♘ ♗ ♕ ♔ ♗ ♘ ♖ 1\")\n",
    "print(\"  a  b  c  d  e f  g h\")"
   ]
  },
  {
   "cell_type": "markdown",
   "metadata": {},
   "source": [
    "# Descripcion de las piezas\n",
    "\n",
    "- **Rey(♔)(♚)**: Se mueve a una casilla adyacente (horizontal, vertical o diagonal).\n",
    "- **Reina(♕)(♛)**: Puede moverse en cualquier dirección (horizontal, vertical o diagonal) en cualquier número de casillas.\n",
    "- **Torre(♖)(♜)**: Se mueve horizontal o verticalmente en cualquier número de casillas.\n",
    "- **Caballo(♘)(♞)**: Se mueve en forma de 'L' (dos casillas en una dirección y luego una casilla perpendicular a la primera).\n",
    "- **Alfil(♗)(♝)**: Se mueve diagonalmente en cualquier número de casillas.\n",
    "- **Peón(♙)(♟)**: Se mueve hacia adelante una casilla, excepto en su primer movimiento donde puede avanzar dos casillas. Captura en diagonal."
   ]
  },
  {
   "cell_type": "code",
   "execution_count": 13,
   "metadata": {},
   "outputs": [
    {
     "name": "stdout",
     "output_type": "stream",
     "text": [
      "---- Peon ----\n",
      "     #    \n",
      "   _/#\\_ \n",
      "  |_____| \n",
      "  |_____| \n",
      "---- Torre ----\n",
      "  |-|-|-| \n",
      "  |_____| \n",
      "  |_____| \n",
      "---- Caballo ----\n",
      "   __/|_     \n",
      " ,-'______>  \n",
      "(  '----'    \n",
      " `-.______.\\\n"
     ]
    }
   ],
   "source": [
    "#Peon\n",
    "print(\"---- Peon ----\")\n",
    "print(\"     #    \") \n",
    "print(\"   _/#\\\\_ \")\n",
    "print(\"  |_____| \")\n",
    "print(\"  |_____| \")\n",
    "#Torre\n",
    "print(\"---- Torre ----\")\n",
    "print(\"  |-|-|-| \")\n",
    "print(\"  |_____| \")\n",
    "print(\"  |_____| \")\n",
    "#Caballos\n",
    "print(\"---- Caballo ----\")\n",
    "print(\"   __/|_     \")\n",
    "print(\" ,-'______>  \")\n",
    "print(\"(  '----'    \") \n",
    "print(\" `-.______.\\\\\")"
   ]
  }
 ],
 "metadata": {
  "kernelspec": {
   "display_name": "Python 3",
   "language": "python",
   "name": "python3"
  },
  "language_info": {
   "codemirror_mode": {
    "name": "ipython",
    "version": 3
   },
   "file_extension": ".py",
   "mimetype": "text/x-python",
   "name": "python",
   "nbconvert_exporter": "python",
   "pygments_lexer": "ipython3",
   "version": "3.12.3"
  }
 },
 "nbformat": 4,
 "nbformat_minor": 2
}
