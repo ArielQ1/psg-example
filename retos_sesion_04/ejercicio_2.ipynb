{
 "cells": [
  {
   "cell_type": "markdown",
   "metadata": {},
   "source": [
    "# Ejercicio 02 Sesion 4\n",
    "* Crea un archivo \"ejercicio_02.ipynb\"\n",
    "* Crea una imagen utilizando símbolos y prints"
   ]
  },
  {
   "cell_type": "code",
   "execution_count": 6,
   "metadata": {},
   "outputs": [
    {
     "name": "stdout",
     "output_type": "stream",
     "text": [
      "     /\\_/\\ \n",
      "    ( o.o )\n",
      "     > ^ < \n",
      " ooO--(_)--Ooo\n"
     ]
    },
    {
     "name": "stderr",
     "output_type": "stream",
     "text": [
      "<>:1: SyntaxWarning: invalid escape sequence '\\_'\n",
      "<>:1: SyntaxWarning: invalid escape sequence '\\_'\n",
      "C:\\Users\\Ariel\\AppData\\Local\\Temp\\ipykernel_12536\\1685812005.py:1: SyntaxWarning: invalid escape sequence '\\_'\n",
      "  print(\"     /\\_/\\ \")\n"
     ]
    }
   ],
   "source": [
    "print(\"     /\\_/\\ \")\n",
    "print(\"    ( o.o )\")\n",
    "print(\"     > ^ < \")\n",
    "print(\" ooO--(_)--Ooo\")\n",
    "#Un intento de Gato jajaja"
   ]
  }
 ],
 "metadata": {
  "kernelspec": {
   "display_name": "Python 3",
   "language": "python",
   "name": "python3"
  },
  "language_info": {
   "codemirror_mode": {
    "name": "ipython",
    "version": 3
   },
   "file_extension": ".py",
   "mimetype": "text/x-python",
   "name": "python",
   "nbconvert_exporter": "python",
   "pygments_lexer": "ipython3",
   "version": "3.12.3"
  }
 },
 "nbformat": 4,
 "nbformat_minor": 2
}
