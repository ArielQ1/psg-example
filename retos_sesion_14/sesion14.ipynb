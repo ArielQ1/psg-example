{
 "cells": [
  {
   "cell_type": "markdown",
   "id": "1fc7324e",
   "metadata": {},
   "source": [
    "# Sesion 14 de Python Study Group for Beginners\n",
    "## Funciones Bloques de Codigo\n",
    "### Funcion\n",
    "#### Estructura"
   ]
  },
  {
   "cell_type": "code",
   "execution_count": null,
   "id": "cd299485",
   "metadata": {},
   "outputs": [],
   "source": [
    "def funcion():\n",
    "    print (\"Bloque de código\")\n",
    "funcion()"
   ]
  },
  {
   "cell_type": "markdown",
   "id": "06da64e8",
   "metadata": {},
   "source": [
    "#### Ejemplo 1\n",
    "##### Crear una función para imprimir una lista de 10 números pares y llamarla dos veces"
   ]
  },
  {
   "cell_type": "code",
   "execution_count": 1,
   "id": "3124e9aa",
   "metadata": {},
   "outputs": [
    {
     "name": "stdout",
     "output_type": "stream",
     "text": [
      "Ejemplo 1\n",
      "1. Definir función\n",
      "2. Llamar función\n",
      "[0, 2, 4, 6, 8, 10, 12, 14, 16, 18, 20]\n",
      "[0, 2, 4, 6, 8, 10, 12, 14, 16, 18, 20]\n"
     ]
    }
   ],
   "source": [
    "print (\"Ejemplo 1\")\n",
    "print (\"1. Definir función\")\n",
    "def imprimir_pares():\n",
    "    pares = [i for i in range(0, 21, 2)]\n",
    "    print (pares)\n",
    "print (\"2. Llamar función\")\n",
    "imprimir_pares()\n",
    "imprimir_pares()"
   ]
  },
  {
   "cell_type": "markdown",
   "id": "80fe7fca",
   "metadata": {},
   "source": [
    "#### Ejercicio 1\n",
    "##### Crear una función que imprima un mensaje de bienvenida del siguiente conjunto de forma aleatoria"
   ]
  },
  {
   "cell_type": "code",
   "execution_count": 2,
   "id": "d09a8224",
   "metadata": {},
   "outputs": [
    {
     "name": "stdout",
     "output_type": "stream",
     "text": [
      "Bienvenido al Python Study Group 🐍\n"
     ]
    }
   ],
   "source": [
    "def bienvenida():\n",
    "    mensajes = {\"Bienvenido al Python Study Group 🐍\",\n",
    "    \"¡Hola y bienvenido al Python Study Group! ✨\",\n",
    "    \"Hola, aprendamos Python juntos 🐍\"}\n",
    "    print (mensajes.pop())\n",
    "bienvenida()"
   ]
  },
  {
   "cell_type": "markdown",
   "id": "d996553b",
   "metadata": {},
   "source": [
    "### FUNCIONES SIN ARGUMENTOS Y CON UN RETORNO"
   ]
  },
  {
   "cell_type": "code",
   "execution_count": null,
   "id": "e6a7ed7e",
   "metadata": {},
   "outputs": [],
   "source": [
    "def funcion():\n",
    "    return \"Bloque de código\"\n",
    "resultado = funcion()\n",
    "print (resultado)"
   ]
  },
  {
   "cell_type": "markdown",
   "id": "ef0a144e",
   "metadata": {},
   "source": [
    "#### Ejemplo 2\n",
    "##### Crear una función que devuelva un saludo en diferentes idiomas"
   ]
  },
  {
   "cell_type": "code",
   "execution_count": 3,
   "id": "6424f039",
   "metadata": {},
   "outputs": [
    {
     "name": "stdout",
     "output_type": "stream",
     "text": [
      "1. Definir función\n",
      "2. Llamar función\n",
      "Ciao\n"
     ]
    }
   ],
   "source": [
    "print (\"1. Definir función\")\n",
    "def saludo():\n",
    "    saludos = {\"Hola\", \"Hello\", \"Bonjour\", \"Ciao\"}\n",
    "    return saludos.pop()\n",
    "print (\"2. Llamar función\")\n",
    "resultado = saludo()\n",
    "print (resultado)"
   ]
  },
  {
   "cell_type": "markdown",
   "id": "a47ea881",
   "metadata": {},
   "source": [
    "#### Ejercicio 2\n",
    "##### Devolver una fruta aleatoria del siguiente conjunto"
   ]
  },
  {
   "cell_type": "code",
   "execution_count": 4,
   "id": "a08adf1c",
   "metadata": {},
   "outputs": [
    {
     "name": "stdout",
     "output_type": "stream",
     "text": [
      "🍌\n"
     ]
    }
   ],
   "source": [
    "def devolver_fruta():\n",
    "    frutas = {'🍅','🍌','🍎','🍇','🍉'}\n",
    "    return frutas.pop()\n",
    "fruta = devolver_fruta()\n",
    "print (fruta)"
   ]
  },
  {
   "cell_type": "markdown",
   "id": "3bac72cf",
   "metadata": {},
   "source": [
    "### FUNCIONES SIN ARGUMENTOS Y CON MÚLTIPLE RETORNO"
   ]
  },
  {
   "cell_type": "code",
   "execution_count": 5,
   "id": "a480c5c9",
   "metadata": {},
   "outputs": [
    {
     "name": "stdout",
     "output_type": "stream",
     "text": [
      "('Bloque', 'de', 'código')\n"
     ]
    }
   ],
   "source": [
    "def funcion():\n",
    "    return \"Bloque\", \"de\", \"código\"\n",
    "resultado = funcion()\n",
    "print (resultado)"
   ]
  },
  {
   "cell_type": "markdown",
   "id": "f2e11635",
   "metadata": {},
   "source": [
    "#### Ejemplo 3\n",
    "##### Crear una función que devuelva un saludo en dos idiomas"
   ]
  },
  {
   "cell_type": "code",
   "execution_count": 6,
   "id": "c287bc1d",
   "metadata": {},
   "outputs": [
    {
     "name": "stdout",
     "output_type": "stream",
     "text": [
      "Ejemplo 3\n",
      "1. Definir función\n",
      "2. Llamar función\n",
      "('Holi', 'Hi')\n"
     ]
    }
   ],
   "source": [
    "print (\"Ejemplo 3\")\n",
    "print (\"1. Definir función\")\n",
    "def saludo():\n",
    "    saludos_es = {\"Hola\", \"Holi\", \"Buenos días\"}\n",
    "    saludos_en = {\"Hello\", \"Hi\", \"Good morning\"}\n",
    "    return saludos_es.pop(), saludos_en.pop() \n",
    "print (\"2. Llamar función\")\n",
    "resultado = saludo()\n",
    "print (resultado)"
   ]
  },
  {
   "cell_type": "markdown",
   "id": "9c6edcde",
   "metadata": {},
   "source": [
    "#### Ejercicio 3\n",
    "##### Devolver una fruta y un color aleatorio de los siguientes conjuntos"
   ]
  },
  {
   "cell_type": "code",
   "execution_count": 7,
   "id": "328db8e5",
   "metadata": {},
   "outputs": [
    {
     "name": "stdout",
     "output_type": "stream",
     "text": [
      "🍌 🔴\n"
     ]
    }
   ],
   "source": [
    "def devolver_fruta_color():\n",
    "    frutas = {'🍅','🍌','🍎','🍇','🍉'}\n",
    "    colores = {'🔴','🟠','🟡','🟢','🔵'}\n",
    "    return frutas.pop(), colores.pop()\n",
    "fruta, color = devolver_fruta_color()\n",
    "print (fruta, color)"
   ]
  },
  {
   "cell_type": "markdown",
   "id": "bf053c27",
   "metadata": {},
   "source": [
    "### FUNCIONES CON UN ARGUMENTO Y SIN RETORNO"
   ]
  },
  {
   "cell_type": "code",
   "execution_count": 9,
   "id": "771a5726",
   "metadata": {},
   "outputs": [
    {
     "name": "stdout",
     "output_type": "stream",
     "text": [
      "Bloque de código\n"
     ]
    }
   ],
   "source": [
    "def funcion(parametro):\n",
    "    print (parametro)\n",
    "funcion(\"Bloque de código\") #1 Argumento"
   ]
  },
  {
   "cell_type": "markdown",
   "id": "ca7ddc0a",
   "metadata": {},
   "source": [
    "#### Ejemplo 4\n",
    "##### Crear una función que imprima el cuadrado de un número"
   ]
  },
  {
   "cell_type": "code",
   "execution_count": 10,
   "id": "28a4a667",
   "metadata": {},
   "outputs": [
    {
     "name": "stdout",
     "output_type": "stream",
     "text": [
      "Ejemplo 4\n",
      "1. Definir función\n",
      "2. Llamar función\n",
      "25\n",
      "100\n"
     ]
    }
   ],
   "source": [
    "print (\"Ejemplo 4\")\n",
    "print (\"1. Definir función\")\n",
    "def cuadrado(numero):\n",
    "    print (numero**2)\n",
    "print (\"2. Llamar función\")\n",
    "cuadrado(5)\n",
    "cuadrado(10)"
   ]
  },
  {
   "cell_type": "markdown",
   "id": "56973c23",
   "metadata": {},
   "source": [
    "#### Ejercicio 4\n",
    "##### Crear una función que imprima el mensaje de bienvenida de acuerdo al un idioma enviado como argumento, si no existe imprimir un mensaje por defecto"
   ]
  },
  {
   "cell_type": "code",
   "execution_count": 12,
   "id": "67ccb5bf",
   "metadata": {},
   "outputs": [
    {
     "name": "stdout",
     "output_type": "stream",
     "text": [
      "Bienvenido al Python Study Group 🐍\n",
      "Hello and welcome to the Python Study Group! ✨\n",
      "¡Hola!\n"
     ]
    }
   ],
   "source": [
    "def bienvenida(idioma):\n",
    "    mensajes = {\n",
    "        \"es\":\"Bienvenido al Python Study Group 🐍\",\n",
    "        \"en\": \"Hello and welcome to the Python Study Group! ✨\",\n",
    "    }\n",
    "    print (mensajes.get(idioma, \"¡Hola!\"))\n",
    "\n",
    "bienvenida(\"es\")\n",
    "bienvenida(\"en\")\n",
    "bienvenida(\"fr\")"
   ]
  },
  {
   "cell_type": "markdown",
   "id": "1cbd14b7",
   "metadata": {},
   "source": [
    "### FUNCIONES CON MÚLTIPLES ARGUMENTOS Y SIN RETORNO\n",
    "#### Ejemplo 5\n",
    "##### Crear una función que reciba una cadena y un entero y repita la cadena el número de veces"
   ]
  },
  {
   "cell_type": "code",
   "execution_count": 13,
   "id": "a09b05fe",
   "metadata": {},
   "outputs": [
    {
     "name": "stdout",
     "output_type": "stream",
     "text": [
      "Ejemplo 5\n",
      "1. Definir función\n",
      "2. Llamar función\n",
      "✨🎉✨🎉✨🎉✨🎉✨🎉✨🎉✨🎉✨🎉✨🎉✨🎉\n"
     ]
    }
   ],
   "source": [
    "print (\"Ejemplo 5\")\n",
    "print (\"1. Definir función\")\n",
    "def repetir(cadena, veces):\n",
    "    print (cadena*veces) \n",
    "print (\"2. Llamar función\")\n",
    "repetir(\"✨🎉\", 10)"
   ]
  },
  {
   "cell_type": "markdown",
   "id": "e901a025",
   "metadata": {},
   "source": [
    "#### Ejercicio 5\n",
    "##### Crear una función que reciba una lista de animales, un entero e imprima una lista con los animales repetidos el número de veces"
   ]
  },
  {
   "cell_type": "code",
   "execution_count": 17,
   "id": "069fc760",
   "metadata": {},
   "outputs": [
    {
     "name": "stdout",
     "output_type": "stream",
     "text": [
      "['🐶🐶🐶', '🐱🐱🐱', '🐭🐭🐭', '🐹🐹🐹', '🐰🐰🐰']\n"
     ]
    }
   ],
   "source": [
    "def repetir_animales(animales, veces):\n",
    "    lista = [animal*veces for animal in animales]\n",
    "    print (lista)\n",
    "\n",
    "animales = ['🐶','🐱','🐭','🐹','🐰']\n",
    "repetir_animales(animales, 3)\n"
   ]
  },
  {
   "cell_type": "markdown",
   "id": "11542d48",
   "metadata": {},
   "source": [
    "### FUNCIONES CON MÚLTIPLES ARGUMENTOS Y CON UN RETORNO"
   ]
  },
  {
   "cell_type": "code",
   "execution_count": 18,
   "id": "057069ac",
   "metadata": {},
   "outputs": [
    {
     "name": "stdout",
     "output_type": "stream",
     "text": [
      "Bloque\n"
     ]
    }
   ],
   "source": [
    "def funcion(param1, param2, paramN):\n",
    "    return param1\n",
    "resultado = funcion(\"Bloque\", \"de\", \"código\")\n",
    "print (resultado)"
   ]
  },
  {
   "cell_type": "markdown",
   "id": "f698d307",
   "metadata": {},
   "source": [
    "#### Ejemplo 6\n",
    "##### Crear una función que reciba dos números y devuelva una lista con la suma, resta, multiplicación y división de los números"
   ]
  },
  {
   "cell_type": "code",
   "execution_count": 19,
   "id": "12fee4a2",
   "metadata": {},
   "outputs": [
    {
     "name": "stdout",
     "output_type": "stream",
     "text": [
      "Ejemplo 6\n",
      "1. Definir función\n",
      "2. Llamar función\n",
      "[15, 5, 50, 2.0]\n"
     ]
    }
   ],
   "source": [
    "print (\"Ejemplo 6\")\n",
    "print (\"1. Definir función\")\n",
    "def operaciones(numero1, numero2):\n",
    "    suma = numero1 + numero2\n",
    "    resta = numero1 - numero2\n",
    "    multiplicacion = numero1 * numero2\n",
    "    division = numero1 / numero2\n",
    "    return [suma, resta, multiplicacion, division]\n",
    "print (\"2. Llamar función\")\n",
    "resultado = operaciones(10, 5)\n",
    "print (resultado)"
   ]
  },
  {
   "cell_type": "markdown",
   "id": "68ab3f22",
   "metadata": {},
   "source": [
    "#### Ejercicio 6\n",
    "##### Crear una función que reciba dos enteros y una cadena devolver el resultado de la operación de los números según la cadena puede ser suma, resta, multiplicación o división"
   ]
  },
  {
   "cell_type": "code",
   "execution_count": 20,
   "id": "1b239c4b",
   "metadata": {},
   "outputs": [
    {
     "name": "stdout",
     "output_type": "stream",
     "text": [
      "15\n"
     ]
    }
   ],
   "source": [
    "def operacion(numero1, numero2, operacion):\n",
    "    if operacion == \"suma\":\n",
    "        return numero1 + numero2\n",
    "    elif operacion == \"resta\":\n",
    "        return numero1 - numero2\n",
    "    elif operacion == \"multiplicacion\":\n",
    "        return numero1 * numero2\n",
    "    elif operacion == \"division\":\n",
    "        return numero1 / numero2\n",
    "    else:\n",
    "        return \"Operación no válida\"\n",
    "resultado = operacion(10, 5, \"suma\")\n",
    "print (resultado)"
   ]
  },
  {
   "cell_type": "markdown",
   "id": "257eeb33",
   "metadata": {},
   "source": [
    "### FUNCIONES CON MÚLTIPLES ARGUMENTOS Y CON MÚLTIPLE RETORNO"
   ]
  },
  {
   "cell_type": "code",
   "execution_count": 22,
   "id": "077141e4",
   "metadata": {},
   "outputs": [
    {
     "name": "stdout",
     "output_type": "stream",
     "text": [
      "('Bloque', 'de', 'código')\n"
     ]
    }
   ],
   "source": [
    "def funcion(param1, param2, paramN):\n",
    "    return param1, param2, paramN\n",
    "\n",
    "resultado = funcion(\"Bloque\", \"de\", \"código\")\n",
    "print (resultado)"
   ]
  },
  {
   "cell_type": "markdown",
   "id": "84f5dc4c",
   "metadata": {},
   "source": [
    "#### Ejemplo 7\n",
    "##### Crear una función que reciba dos números y devuelva la suma, resta, multiplicación y división de los dos números"
   ]
  },
  {
   "cell_type": "code",
   "execution_count": 23,
   "id": "0574b1ea",
   "metadata": {},
   "outputs": [
    {
     "name": "stdout",
     "output_type": "stream",
     "text": [
      "Ejemplo 7\n",
      "1. Definir función\n",
      "2. Llamar función\n",
      "15 5 50 2.0\n"
     ]
    }
   ],
   "source": [
    "print (\"Ejemplo 7\")\n",
    "print (\"1. Definir función\")\n",
    "def operaciones(numero1, numero2):\n",
    "    suma = numero1 + numero2\n",
    "    resta = numero1 - numero2\n",
    "    multiplicacion = numero1 * numero2\n",
    "    division = numero1 / numero2\n",
    "    return suma, resta, multiplicacion, division\n",
    " \n",
    "print (\"2. Llamar función\")\n",
    "suma, resta, multiplicacion, division = operaciones(10, 5)\n",
    "print (suma, resta, multiplicacion, division)"
   ]
  },
  {
   "cell_type": "markdown",
   "id": "dc48fd34",
   "metadata": {},
   "source": [
    "#### Ejercicio 7\n",
    "##### Crear una juego de piedra papel o tijera, donde reciba dos jugadas por teclado y devuelva las jugadas y el resultado, si ingresa salir terminar el juego"
   ]
  },
  {
   "cell_type": "code",
   "execution_count": 25,
   "id": "6597853c",
   "metadata": {},
   "outputs": [
    {
     "name": "stdout",
     "output_type": "stream",
     "text": [
      "('tijera', 'papel', 'Jugador 1 gana')\n"
     ]
    }
   ],
   "source": [
    "def jugar_piedra_papel_tijera(jugada1, jugada2):\n",
    "    if jugada1 == jugada2:\n",
    "        resultado = \"Empate\"\n",
    "    elif jugada1 == \"piedra\" and jugada2 == \"tijera\":\n",
    "        resultado = \"Jugador 1 gana\"\n",
    "    elif jugada1 == \"papel\" and jugada2 == \"piedra\":\n",
    "        resultado = \"Jugador 1 gana\"\n",
    "    elif jugada1 == \"tijera\" and jugada2 == \"papel\":\n",
    "        resultado = \"Jugador 1 gana\"\n",
    "    else:\n",
    "        resultado = \"Jugador 2 gana\"\n",
    "    return jugada1, jugada2, resultado\n",
    "\n",
    "while True:\n",
    "    jugador1 = input(\"Jugador 1: \")\n",
    "    if jugador1 == \"salir\":\n",
    "        break\n",
    "    jugador2 = input(\"Jugador 2: \")\n",
    "    if jugador2 == \"salir\":\n",
    "        break\n",
    "    resultado = jugar_piedra_papel_tijera(jugador1, jugador2)\n",
    "    print (resultado)"
   ]
  },
  {
   "cell_type": "markdown",
   "id": "7a31bead",
   "metadata": {},
   "source": [
    "### VARIABLES GLOBALES Y LOCALES"
   ]
  },
  {
   "cell_type": "code",
   "execution_count": 26,
   "id": "27bfdc81",
   "metadata": {},
   "outputs": [
    {
     "name": "stdout",
     "output_type": "stream",
     "text": [
      "✨ Variable global\n",
      "✨ Variable local\n",
      "🎈 Variable global\n"
     ]
    },
    {
     "ename": "NameError",
     "evalue": "name 'variable_local' is not defined",
     "output_type": "error",
     "traceback": [
      "\u001b[1;31m---------------------------------------------------------------------------\u001b[0m",
      "\u001b[1;31mNameError\u001b[0m                                 Traceback (most recent call last)",
      "Cell \u001b[1;32mIn[26], line 9\u001b[0m\n\u001b[0;32m      7\u001b[0m funcion()\n\u001b[0;32m      8\u001b[0m \u001b[38;5;28mprint\u001b[39m (\u001b[38;5;124m\"\u001b[39m\u001b[38;5;124m🎈\u001b[39m\u001b[38;5;124m\"\u001b[39m,variable_global)\n\u001b[1;32m----> 9\u001b[0m \u001b[38;5;28mprint\u001b[39m (\u001b[38;5;124m\"\u001b[39m\u001b[38;5;124m🎈\u001b[39m\u001b[38;5;124m\"\u001b[39m,\u001b[43mvariable_local\u001b[49m)\n",
      "\u001b[1;31mNameError\u001b[0m: name 'variable_local' is not defined"
     ]
    }
   ],
   "source": [
    "variable_global = \"Variable global\"\n",
    "def funcion():\n",
    "    variable_local = \"Variable local\"\n",
    "    print (\"✨\",variable_global)\n",
    "    print (\"✨\",variable_local)\n",
    "\n",
    "funcion()\n",
    "print (\"🎈\",variable_global)\n",
    "print (\"🎈\",variable_local)"
   ]
  },
  {
   "cell_type": "markdown",
   "id": "9b62bbcb",
   "metadata": {},
   "source": [
    "### Prioridad"
   ]
  },
  {
   "cell_type": "code",
   "execution_count": 27,
   "id": "eda220c3",
   "metadata": {},
   "outputs": [
    {
     "name": "stdout",
     "output_type": "stream",
     "text": [
      "0. Variable global\n",
      "1. Variable local\n",
      "2. Variable global\n"
     ]
    }
   ],
   "source": [
    "variable = \"Variable global\"\n",
    "print ('0.',variable)\n",
    "def funcion():\n",
    "    variable = \"Variable local\"\n",
    "    print ('1.',variable)\n",
    "\n",
    "funcion()\n",
    "print ('2.',variable)"
   ]
  },
  {
   "cell_type": "markdown",
   "id": "0ec457bb",
   "metadata": {},
   "source": [
    "#### Ejemplo 8\n",
    "##### De la siguiente lista de números obtener el mayor y menor número con una función"
   ]
  },
  {
   "cell_type": "code",
   "execution_count": 28,
   "id": "ac003bb6",
   "metadata": {},
   "outputs": [
    {
     "name": "stdout",
     "output_type": "stream",
     "text": [
      "(30, 5)\n"
     ]
    }
   ],
   "source": [
    "numeros = [10, 5, 20, 15, 25, 30] #Global\n",
    "def mayor_menor(): #No recibe argumentos\n",
    "    mayor = max(numeros) #Local\n",
    "    menor = min(numeros) #Local\n",
    "    return mayor, menor #Devuelve dos valores\n",
    "\n",
    "resultado = mayor_menor()\n",
    "print (resultado)"
   ]
  },
  {
   "cell_type": "markdown",
   "id": "410a8cb9",
   "metadata": {},
   "source": [
    "#### Ejercicio 8\n",
    "##### De la siguiente cadena global convertir en formato título y contar las vocales aeiou con una función"
   ]
  },
  {
   "cell_type": "code",
   "execution_count": 30,
   "id": "b2ece295",
   "metadata": {},
   "outputs": [
    {
     "name": "stdout",
     "output_type": "stream",
     "text": [
      "('Python Es Un Lenguaje De Programación', 10)\n"
     ]
    }
   ],
   "source": [
    "def formato_vocales():\n",
    "    titulo = cadena.title()\n",
    "    vocales = sum([1 for letra in titulo if letra in \"aeiou\"])\n",
    "    return titulo, vocales\n",
    "cadena = \"python es un lenguaje de programación\"\n",
    "resultado = formato_vocales()\n",
    "print (resultado)"
   ]
  },
  {
   "cell_type": "markdown",
   "id": "3cc68abb",
   "metadata": {},
   "source": [
    "### ARGS Y KWARGS"
   ]
  },
  {
   "cell_type": "code",
   "execution_count": 31,
   "id": "d9479e20",
   "metadata": {},
   "outputs": [
    {
     "name": "stdout",
     "output_type": "stream",
     "text": [
      "('Bloque', 'de', 'código')\n",
      "<class 'tuple'>\n"
     ]
    }
   ],
   "source": [
    "def funcion(*args):\n",
    "    print (args)\n",
    "    print (type(args))\n",
    "\n",
    "funcion(\"Bloque\", \"de\", \"código\")"
   ]
  },
  {
   "cell_type": "markdown",
   "id": "4ecf8048",
   "metadata": {},
   "source": [
    "#### Ejemplo 9\n",
    "##### Crear una función que reciba un número y una cantidad de cadenas, concatene las cadenas y la devuelva repetida N veces"
   ]
  },
  {
   "cell_type": "code",
   "execution_count": 32,
   "id": "e318b2c9",
   "metadata": {},
   "outputs": [
    {
     "name": "stdout",
     "output_type": "stream",
     "text": [
      "Ejemplo 9\n",
      "1. Definir función\n",
      "2. Llamar función\n",
      "🍎🍌🍍🍎🍌🍍🍎🍌🍍\n"
     ]
    }
   ],
   "source": [
    "print (\"Ejemplo 9\")\n",
    "print (\"1. Definir función\")\n",
    "def concatenar(numero, *cadenas):\n",
    "    concatenado = \"\"\n",
    "    for cadena in cadenas:\n",
    "        concatenado += cadena\n",
    "    return concatenado*numero\n",
    " \n",
    "print (\"2. Llamar función\")\n",
    "resultado = concatenar(3, \"🍎\", \"🍌\", \"🍍\")\n",
    "print (resultado)"
   ]
  },
  {
   "cell_type": "markdown",
   "id": "8302191c",
   "metadata": {},
   "source": [
    "#### Ejercicio 9\n",
    "##### Crear una función que reciba N objetos y genere una tupla y una lista con los objetos usando *args"
   ]
  },
  {
   "cell_type": "code",
   "execution_count": 33,
   "id": "915b65dd",
   "metadata": {},
   "outputs": [
    {
     "name": "stdout",
     "output_type": "stream",
     "text": [
      "(1, 1.1, True, '🍎')\n",
      "[1, 1.1, True, '🍎']\n"
     ]
    }
   ],
   "source": [
    "def funcion_generar(*args):\n",
    "    tupla = tuple(args)\n",
    "    lista = list(args)\n",
    "    return tupla, lista\n",
    "tupla, lista = funcion_generar(1, 1.1, True, \"🍎\")\n",
    "print(tupla)\n",
    "print(lista)"
   ]
  },
  {
   "cell_type": "code",
   "execution_count": 35,
   "id": "6fa5463b",
   "metadata": {},
   "outputs": [
    {
     "name": "stdout",
     "output_type": "stream",
     "text": [
      "{'nombre': 'Jhon', 'apellido': 'Doe', 'genero': 'M'}\n",
      "<class 'dict'>\n"
     ]
    }
   ],
   "source": [
    "#KWARGS\n",
    "def funcion(**kwargs):\n",
    "    print (kwargs)\n",
    "    print (type(kwargs))\n",
    "funcion(nombre=\"Jhon\", apellido=\"Doe\", genero=\"M\")\n"
   ]
  },
  {
   "cell_type": "markdown",
   "id": "fc6b54be",
   "metadata": {},
   "source": [
    "#### Ejemplo 10\n",
    "##### Crear una función que reciba los datos de una persona y devuelva un mensaje con los datos"
   ]
  },
  {
   "cell_type": "code",
   "execution_count": 36,
   "id": "c211dbf8",
   "metadata": {},
   "outputs": [
    {
     "name": "stdout",
     "output_type": "stream",
     "text": [
      "Ejemplo 10\n",
      "1. Definir función\n",
      "2. Llamar función\n",
      "Nombre: JHON\n",
      "Apellido: DOE\n",
      "Edad: 20\n",
      "Boliviano: TRUE\n",
      "\n"
     ]
    }
   ],
   "source": [
    "print (\"Ejemplo 10\")\n",
    "print (\"1. Definir función\")\n",
    "def datos_persona(**datos):\n",
    "    mensaje = \"\"\n",
    "    for clave, valor in datos.items():\n",
    "        mensaje += f\"{str(clave).title()}: {str(valor).upper()}\\n\"\n",
    "    return mensaje\n",
    "print (\"2. Llamar función\")\n",
    "resultado = datos_persona(nombre=\"Jhon\", apellido=\"Doe\", edad=20, boliviano=True)\n",
    "print (resultado)"
   ]
  },
  {
   "cell_type": "markdown",
   "id": "52cdbbd0",
   "metadata": {},
   "source": [
    "#### Ejercicio 10\n",
    "##### Crea un simulador de lavar platos con una función que reciba los objetos a lavar y el tiempo de lavado de cada objeto devuelva un mensaje con los objetos lavados y el tiempo total de lavado"
   ]
  },
  {
   "cell_type": "code",
   "execution_count": 38,
   "id": "ac903517",
   "metadata": {},
   "outputs": [
    {
     "name": "stdout",
     "output_type": "stream",
     "text": [
      "plato: 5 minutos\n",
      "vaso: 3 minutos\n",
      "tenedor: 1 minutos\n",
      "cuchara: 0.5 minutos\n",
      "Tiempo total: 9.5 minutos\n"
     ]
    }
   ],
   "source": [
    "def lavar(**objetos):\n",
    "    tiempo_total = 0\n",
    "    mensaje = \"\"\n",
    "    for objeto, tiempo in objetos.items():\n",
    "        tiempo_total += tiempo\n",
    "        mensaje += f\"{objeto}: {tiempo} minutos\\n\"\n",
    "    mensaje += f\"Tiempo total: {tiempo_total} minutos\"\n",
    "    return mensaje\n",
    "\n",
    "resultado = lavar(plato=5, vaso=3, tenedor=1, cuchara=0.5)\n",
    "print (resultado)"
   ]
  },
  {
   "cell_type": "markdown",
   "id": "33a7f098",
   "metadata": {},
   "source": [
    "### DOCUMENTACIÓN DE FUNCIONES"
   ]
  },
  {
   "cell_type": "code",
   "execution_count": 40,
   "id": "b6157261",
   "metadata": {},
   "outputs": [
    {
     "name": "stdout",
     "output_type": "stream",
     "text": [
      "Acceso a la documentación\n",
      "\n",
      "    Documentación aquí\n",
      "    \n",
      "Fin de la ejecución\n"
     ]
    }
   ],
   "source": [
    "def funcion():\n",
    "    \"\"\"\n",
    "    Documentación aquí\n",
    "    \"\"\"\n",
    "    print (\"Bloque de código\")\n",
    "\n",
    "#Acceso a la documentación con .__doc__\n",
    "print (\"Acceso a la documentación\")\n",
    "def funcion():\n",
    "    \"\"\"\n",
    "    Documentación aquí\n",
    "    \"\"\"\n",
    "    print (\"Bloque de código\")\n",
    "print (funcion.__doc__)\n",
    "print (\"Fin de la ejecución\")"
   ]
  },
  {
   "cell_type": "markdown",
   "id": "fd6f7fa8",
   "metadata": {},
   "source": [
    "### LLAMADO DE FUNCIONES DENTRO DE FUNCIONES\n",
    "#### Ejemplo 10\n",
    "##### Crear tres funciones una principal que reciba un número y dos funciones anidadas que devuelvan el cuadrado y el cubo del número"
   ]
  },
  {
   "cell_type": "code",
   "execution_count": 41,
   "id": "d01c5520",
   "metadata": {},
   "outputs": [
    {
     "name": "stdout",
     "output_type": "stream",
     "text": [
      "Ejemplo 11\n",
      "1. Definir función Principal\n",
      "2. Definir función Cuadrado\n",
      "3. Definir función Cubo\n",
      "4. Llamar función Principal\n",
      "5 (25, 125)\n"
     ]
    }
   ],
   "source": [
    "print (\"Ejemplo 11\")\n",
    "print (\"1. Definir función Principal\")\n",
    "def principal(numero):\n",
    "    cuadrado = cuadrado_numero(numero)\n",
    "    cubo = cubo_numero(numero)\n",
    "    return cuadrado, cubo\n",
    " \n",
    "print (\"2. Definir función Cuadrado\")\n",
    "def cuadrado_numero(numero):\n",
    "    return numero**2\n",
    " \n",
    "print (\"3. Definir función Cubo\")\n",
    "def cubo_numero(numero):\n",
    "    return numero**3\n",
    " \n",
    "print (\"4. Llamar función Principal\")\n",
    "numero = 5\n",
    "resultado = principal(numero)\n",
    "print (numero, resultado)"
   ]
  },
  {
   "cell_type": "markdown",
   "id": "03cea9d4",
   "metadata": {},
   "source": [
    "#### Ejemplo 11\n",
    "##### Crear funciones de limpieza de una cadena para obtener las letras y convertir todo en mayúsculas crea funciones de limpieza y función una principal"
   ]
  },
  {
   "cell_type": "code",
   "execution_count": 42,
   "id": "31b5fb3c",
   "metadata": {},
   "outputs": [
    {
     "name": "stdout",
     "output_type": "stream",
     "text": [
      "Python es un lenguaje de programación 🎈. Feliz Aprendizaje el 2024\n",
      "PYTHONESUNLENGUAJEDEPROGRAMACIÓNFELIZAPRENDIZAJEEL\n"
     ]
    }
   ],
   "source": [
    "def limpiar_letras(cadena):\n",
    "    \"\"\"\n",
    "    Elimina los números de una cadena y espacios\n",
    "    \"\"\"\n",
    "    return \"\".join([letra for letra in cadena if letra.isalpha()])\n",
    "def limpiar_mayusculas(cadena):\n",
    "    \"\"\"\n",
    "    Convierte una cadena en mayúsculas\n",
    "    \"\"\"\n",
    "    return cadena.upper()\n",
    "def limpiar(cadena):\n",
    "    cadena = limpiar_letras(cadena)\n",
    "    cadena = limpiar_mayusculas(cadena)\n",
    "    return cadena\n",
    "cadena = \"Python es un lenguaje de programación 🎈. Feliz Aprendizaje el 2024\"\n",
    "resultado = limpiar(cadena)\n",
    "print (cadena)\n",
    "print (resultado)"
   ]
  },
  {
   "cell_type": "markdown",
   "id": "41808c91",
   "metadata": {},
   "source": [
    "### Funciones Recursivas\n",
    "#### Estructura"
   ]
  },
  {
   "cell_type": "code",
   "execution_count": null,
   "id": "52ed243e",
   "metadata": {},
   "outputs": [],
   "source": [
    "#FUNCIONES RECURSIVAS\n",
    "def funcion_recursiva(valor):\n",
    "    if caso_base:\n",
    "        return valor\n",
    "    else:\n",
    "        return funcion_recursiva(valor)"
   ]
  },
  {
   "cell_type": "markdown",
   "id": "665c1b70",
   "metadata": {},
   "source": [
    "#### Ejemplo 12\n",
    "##### Ejemplo 12, Crear una función recursiva para obtener el 10 número par\n"
   ]
  },
  {
   "cell_type": "code",
   "execution_count": 43,
   "id": "cb76f136",
   "metadata": {},
   "outputs": [
    {
     "name": "stdout",
     "output_type": "stream",
     "text": [
      "Ejemplo 12\n",
      "1. Definir función\n",
      "2. Llamar función\n",
      "20\n"
     ]
    }
   ],
   "source": [
    "print (\"Ejemplo 12\")\n",
    "print (\"1. Definir función\")\n",
    "def numero_par(numero):\n",
    "    if numero == 0:\n",
    "        return 0\n",
    "    else:\n",
    "        return numero_par(numero-1) + 2\n",
    " \n",
    "print (\"2. Llamar función\")\n",
    "resultado = numero_par(10)\n",
    "print (resultado)"
   ]
  },
  {
   "cell_type": "markdown",
   "id": "cc6c3998",
   "metadata": {},
   "source": [
    "#### Ejercicio 12\n",
    "##### Crear una función recursiva para obtener el factorial de un número"
   ]
  },
  {
   "cell_type": "code",
   "execution_count": 44,
   "id": "576a0ee1",
   "metadata": {},
   "outputs": [
    {
     "name": "stdout",
     "output_type": "stream",
     "text": [
      "Ejercicio 12\n",
      "15511210043330985984000000\n"
     ]
    }
   ],
   "source": [
    "print (\"Ejercicio 12\")\n",
    "def factorial_recursivo(numero):\n",
    "    if numero == 0:\n",
    "        return 1\n",
    "    else:\n",
    "        return numero * factorial_recursivo(numero-1)\n",
    "print(factorial_recursivo(25))"
   ]
  },
  {
   "cell_type": "markdown",
   "id": "04f697c9",
   "metadata": {},
   "source": [
    "### Funciones LAMBDA\n",
    "#### Ejemplo 13\n",
    "##### Crear una función anónima para obtener el cuadrado de un número"
   ]
  },
  {
   "cell_type": "code",
   "execution_count": 45,
   "id": "bf715dff",
   "metadata": {},
   "outputs": [
    {
     "name": "stdout",
     "output_type": "stream",
     "text": [
      "Ejemplo 13\n",
      "25\n",
      "100\n"
     ]
    }
   ],
   "source": [
    "print (\"Ejemplo 13\")\n",
    "cuadrado = lambda numero: numero**2\n",
    "resultado = cuadrado(5)\n",
    "print (resultado)\n",
    "resultado = cuadrado(10)\n",
    "print (resultado)"
   ]
  },
  {
   "cell_type": "markdown",
   "id": "324c93bf",
   "metadata": {},
   "source": [
    "#### Ejercicio 13\n",
    "##### Crear una función anónima para obtener de una cadena las letras solo los alfanuméricos y convertir en mayúsculas"
   ]
  },
  {
   "cell_type": "code",
   "execution_count": 46,
   "id": "f5a1b12f",
   "metadata": {},
   "outputs": [
    {
     "name": "stdout",
     "output_type": "stream",
     "text": [
      "Python es un lenguaje de programación\n",
      "PYTHONESUNLENGUAJEDEPROGRAMACIÓN\n"
     ]
    }
   ],
   "source": [
    "cadena = \"Python es un lenguaje de programación\"\n",
    "limpiar = lambda cadena: \"\".join([letra for letra in cadena if letra.isalnum()]).upper()\n",
    "resultado = limpiar(cadena)\n",
    "print (cadena)\n",
    "print (resultado)"
   ]
  }
 ],
 "metadata": {
  "kernelspec": {
   "display_name": "Python 3",
   "language": "python",
   "name": "python3"
  },
  "language_info": {
   "codemirror_mode": {
    "name": "ipython",
    "version": 3
   },
   "file_extension": ".py",
   "mimetype": "text/x-python",
   "name": "python",
   "nbconvert_exporter": "python",
   "pygments_lexer": "ipython3",
   "version": "3.12.3"
  }
 },
 "nbformat": 4,
 "nbformat_minor": 5
}
