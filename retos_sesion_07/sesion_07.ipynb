{
 "cells": [
  {
   "cell_type": "markdown",
   "metadata": {},
   "source": [
    "# Sesion 07 de Python Study Group for Beginners\n",
    "## Cadenas\n",
    "### Comillas Simples"
   ]
  },
  {
   "cell_type": "code",
   "execution_count": 2,
   "metadata": {},
   "outputs": [
    {
     "name": "stdout",
     "output_type": "stream",
     "text": [
      "Mi cadena permite comillas \"dobles\" en una sola línea\n"
     ]
    }
   ],
   "source": [
    "simple = 'Mi cadena permite comillas \"dobles\" en una sola línea'\n",
    "print(simple)"
   ]
  },
  {
   "cell_type": "markdown",
   "metadata": {},
   "source": [
    "### Comillas Dobles"
   ]
  },
  {
   "cell_type": "code",
   "execution_count": 3,
   "metadata": {},
   "outputs": [
    {
     "name": "stdout",
     "output_type": "stream",
     "text": [
      "Mi cadena permite comillas 'simples' en una sola línea\n"
     ]
    }
   ],
   "source": [
    "doble  = \"Mi cadena permite comillas 'simples' en una sola línea\"\n",
    "print(doble)"
   ]
  },
  {
   "cell_type": "markdown",
   "metadata": {},
   "source": [
    "### Triple Simple y Triple Doble"
   ]
  },
  {
   "cell_type": "code",
   "execution_count": 4,
   "metadata": {},
   "outputs": [
    {
     "name": "stdout",
     "output_type": "stream",
     "text": [
      "------------------ Triple Simple ------------------\n",
      "Mi cadena\n",
      "permite contenido \n",
      "en varias líneas y comillas \"dobles\" \n",
      "------------------ Triple Doble ------------------\n",
      "Mi cadena\n",
      "permite contenido \n",
      "en varias líneas y comillas 'simples' \n"
     ]
    }
   ],
   "source": [
    "triple_simple = '''Mi cadena\n",
    "permite contenido \n",
    "en varias líneas y comillas \"dobles\" '''\n",
    "triple_doble = \"\"\"Mi cadena\n",
    "permite contenido \n",
    "en varias líneas y comillas 'simples' \"\"\"\n",
    "print(\"------------------ Triple Simple ------------------\")\n",
    "print(triple_simple)\n",
    "print(\"------------------ Triple Doble ------------------\")\n",
    "print(triple_doble)"
   ]
  },
  {
   "cell_type": "markdown",
   "metadata": {},
   "source": [
    "### Metodo str() Lo convierte todo en cadena"
   ]
  },
  {
   "cell_type": "code",
   "execution_count": 5,
   "metadata": {},
   "outputs": [
    {
     "name": "stdout",
     "output_type": "stream",
     "text": [
      "1\n",
      "0.001\n",
      "10\n",
      "True\n",
      "<class 'str'>\n",
      "<class 'str'>\n",
      "<class 'str'>\n",
      "<class 'str'>\n"
     ]
    }
   ],
   "source": [
    "entero = str(1)\n",
    "flotante = str(1E-3)\n",
    "hexadecimal = str(0xA)\n",
    "booleano = str (True)\n",
    "print (entero)\n",
    "print (flotante)\n",
    "print (hexadecimal)\n",
    "print (booleano)\n",
    "print (type(entero))\n",
    "print (type(flotante))\n",
    "print (type(hexadecimal))\n",
    "print (type(booleano))"
   ]
  },
  {
   "cell_type": "markdown",
   "metadata": {},
   "source": [
    "### Escape de Caracteres \"\\\""
   ]
  },
  {
   "cell_type": "code",
   "execution_count": 8,
   "metadata": {},
   "outputs": [
    {
     "name": "stdout",
     "output_type": "stream",
     "text": [
      "El mensaje enviado fue: \"Hello, I'm a message\"\n",
      "El mensaje enviado fue: \"Hello, I'm a message\"\n"
     ]
    }
   ],
   "source": [
    "print (\"El mensaje enviado fue: \\\"Hello, I\\'m a message\\\"\")\n",
    "print ('El mensaje enviado fue: \\\"Hello, I\\'m a message\\\"')"
   ]
  },
  {
   "cell_type": "markdown",
   "metadata": {},
   "source": [
    "### Metodo input"
   ]
  },
  {
   "cell_type": "code",
   "execution_count": 9,
   "metadata": {},
   "outputs": [
    {
     "name": "stdout",
     "output_type": "stream",
     "text": [
      "Ingresando un texto 1455\n",
      "<class 'str'>\n"
     ]
    }
   ],
   "source": [
    "entrada = input(\"Ingrese un valor: \")\n",
    "print (entrada)\n",
    "print (type(entrada))"
   ]
  },
  {
   "cell_type": "markdown",
   "metadata": {},
   "source": [
    "## Indices"
   ]
  },
  {
   "cell_type": "code",
   "execution_count": 11,
   "metadata": {},
   "outputs": [
    {
     "name": "stdout",
     "output_type": "stream",
     "text": [
      "Indexado positivo\n",
      "banana\n",
      "b\n",
      "a\n",
      "Indexado negativo\n",
      "banana\n",
      "a\n",
      "a\n"
     ]
    }
   ],
   "source": [
    "print (\"Indexado positivo\")\n",
    "fruta = \"banana\"\n",
    "print (fruta)\n",
    "print (fruta[0])\n",
    "print (fruta[5])\n",
    "print (\"Indexado negativo\")\n",
    "fruta = \"banana\"\n",
    "print (fruta)\n",
    "print (fruta[-1])\n",
    "print (fruta[-3])"
   ]
  },
  {
   "cell_type": "markdown",
   "metadata": {},
   "source": [
    "### SEGMENTACIÓN O SLICING\n",
    "secuencia[inicio:fin:paso]"
   ]
  },
  {
   "cell_type": "code",
   "execution_count": 12,
   "metadata": {},
   "outputs": [
    {
     "name": "stdout",
     "output_type": "stream",
     "text": [
      "LaPaz-Bolivia\n",
      "Slicing con índices positivos\n",
      "LaPaz-\n",
      "LPz\n",
      "Slicing con índices negativos\n",
      "az-Boliv\n",
      "a-oi\n"
     ]
    }
   ],
   "source": [
    "ciudad =  \"LaPaz-Bolivia\"\n",
    "print (ciudad)\n",
    "print (\"Slicing con índices positivos\")\n",
    "print (ciudad[0:6])\n",
    "print (ciudad[0:6:2])\n",
    "print (\"Slicing con índices negativos\")\n",
    "print (ciudad[-10:-2])\n",
    "print (ciudad[-10:-2:2])"
   ]
  },
  {
   "cell_type": "markdown",
   "metadata": {},
   "source": [
    "### Concatenacion de cadenas"
   ]
  },
  {
   "cell_type": "code",
   "execution_count": 13,
   "metadata": {},
   "outputs": [
    {
     "name": "stdout",
     "output_type": "stream",
     "text": [
      "Hola Mundo\n"
     ]
    }
   ],
   "source": [
    "cadena1 = \"Hola\"\n",
    "cadena2 = \"Mundo\"\n",
    "concatenada = cadena1 + \" \" + cadena2\n",
    "print (concatenada)"
   ]
  },
  {
   "cell_type": "markdown",
   "metadata": {},
   "source": [
    "### Repeticion de una cadena"
   ]
  },
  {
   "cell_type": "code",
   "execution_count": 14,
   "metadata": {},
   "outputs": [
    {
     "name": "stdout",
     "output_type": "stream",
     "text": [
      "-#--#--#--#--#--#--#--#--#--#-\n"
     ]
    }
   ],
   "source": [
    "cadena = \"-#-\"\n",
    "repetida = cadena * 10\n",
    "print (repetida)"
   ]
  },
  {
   "cell_type": "markdown",
   "metadata": {},
   "source": [
    "### Longitud de una cadena"
   ]
  },
  {
   "cell_type": "code",
   "execution_count": 15,
   "metadata": {},
   "outputs": [
    {
     "name": "stdout",
     "output_type": "stream",
     "text": [
      "Hola Mundo :D\n",
      "13 <class 'int'>\n"
     ]
    }
   ],
   "source": [
    "cadena = \"Hola Mundo :D\"\n",
    "longitud = len(cadena)\n",
    "print (cadena)\n",
    "print (longitud, type(longitud))\n"
   ]
  },
  {
   "cell_type": "markdown",
   "metadata": {},
   "source": [
    "## Metodos de una cadena\n",
    "### UPPER"
   ]
  },
  {
   "cell_type": "code",
   "execution_count": 16,
   "metadata": {},
   "outputs": [
    {
     "name": "stdout",
     "output_type": "stream",
     "text": [
      "cadena Inicial #1\n",
      "CADENA INICIAL #1\n"
     ]
    }
   ],
   "source": [
    "cadena = \"cadena Inicial #1\"\n",
    "mayuscula  = cadena.upper()\n",
    "print (cadena)\n",
    "print (mayuscula)"
   ]
  },
  {
   "cell_type": "markdown",
   "metadata": {},
   "source": [
    "### LOWER"
   ]
  },
  {
   "cell_type": "code",
   "execution_count": 17,
   "metadata": {},
   "outputs": [
    {
     "name": "stdout",
     "output_type": "stream",
     "text": [
      "cadena Inicial #1\n",
      "cadena inicial #1\n"
     ]
    }
   ],
   "source": [
    "minuscula  = cadena.lower()\n",
    "print (cadena)\n",
    "print (minuscula)"
   ]
  },
  {
   "cell_type": "markdown",
   "metadata": {},
   "source": [
    "### CAPITALIZE"
   ]
  },
  {
   "cell_type": "code",
   "execution_count": 18,
   "metadata": {},
   "outputs": [
    {
     "name": "stdout",
     "output_type": "stream",
     "text": [
      "cadena INICIAL #3\n",
      "Cadena inicial #3\n"
     ]
    }
   ],
   "source": [
    "cadena = \"cadena INICIAL #3\"\n",
    "capital = cadena.capitalize()\n",
    "print (cadena)\n",
    "print (capital)"
   ]
  },
  {
   "cell_type": "markdown",
   "metadata": {},
   "source": [
    "### TITLE"
   ]
  },
  {
   "cell_type": "code",
   "execution_count": 19,
   "metadata": {},
   "outputs": [
    {
     "name": "stdout",
     "output_type": "stream",
     "text": [
      "CADENA inicial #4\n",
      "Cadena Inicial #4\n"
     ]
    }
   ],
   "source": [
    "cadena = \"CADENA inicial #4\"\n",
    "titulo = cadena.title()\n",
    "print (cadena)\n",
    "print (titulo)"
   ]
  },
  {
   "cell_type": "markdown",
   "metadata": {},
   "source": [
    "### SWAPCASE"
   ]
  },
  {
   "cell_type": "code",
   "execution_count": 20,
   "metadata": {},
   "outputs": [
    {
     "name": "stdout",
     "output_type": "stream",
     "text": [
      "CADena InIcIaL #5\n",
      "cadENA iNiCiAl #5\n"
     ]
    }
   ],
   "source": [
    "cadena = \"CADena InIcIaL #5\"\n",
    "swap = cadena.swapcase()\n",
    "print (cadena)\n",
    "print (swap)"
   ]
  },
  {
   "cell_type": "markdown",
   "metadata": {},
   "source": [
    "### COUNT\n",
    "Cuenta las veces que aparece una cadena dentro de otra cadena recibe como parámetro la cadena a buscar"
   ]
  },
  {
   "cell_type": "code",
   "execution_count": 21,
   "metadata": {},
   "outputs": [
    {
     "name": "stdout",
     "output_type": "stream",
     "text": [
      "Cantidad de veces la letra A\n",
      "4 <class 'int'>\n"
     ]
    }
   ],
   "source": [
    "cadena = \"Cantidad de veces la letra A\"\n",
    "contar = cadena.count(\"a\")\n",
    "print(cadena)\n",
    "print(contar, type(contar))"
   ]
  },
  {
   "cell_type": "markdown",
   "metadata": {},
   "source": [
    "### FIND Y RFIND (izquierda - derecha)\n",
    "Busca y devuelve el índice en el que se encuentra la cadena dentro de otra, empezando por la izquierda o inicio, si no encuentra devuelve -1"
   ]
  },
  {
   "cell_type": "code",
   "execution_count": 22,
   "metadata": {},
   "outputs": [
    {
     "name": "stdout",
     "output_type": "stream",
     "text": [
      "Encontrar las letras las\n",
      "10 <class 'int'>\n"
     ]
    }
   ],
   "source": [
    "cadena = \"Encontrar las letras las\"\n",
    "buscar = cadena.find(\"las\")\n",
    "print(cadena)\n",
    "print(buscar, type(buscar))"
   ]
  },
  {
   "cell_type": "markdown",
   "metadata": {},
   "source": [
    "### SPLIT"
   ]
  },
  {
   "cell_type": "code",
   "execution_count": 23,
   "metadata": {},
   "outputs": [
    {
     "name": "stdout",
     "output_type": "stream",
     "text": [
      "pan,carne,huevos\n",
      "['pan', 'carne', 'huevos'] <class 'list'>\n"
     ]
    }
   ],
   "source": [
    "cadena = \"pan,carne,huevos\"\n",
    "separado = cadena.split(\",\")\n",
    "print (cadena)\n",
    "print (separado, type(separado))"
   ]
  },
  {
   "cell_type": "markdown",
   "metadata": {},
   "source": [
    "### JOIN"
   ]
  },
  {
   "cell_type": "code",
   "execution_count": 24,
   "metadata": {},
   "outputs": [
    {
     "name": "stdout",
     "output_type": "stream",
     "text": [
      "abcdefghij\n",
      "a-b-c-d-e-f-g-h-i-j\n"
     ]
    }
   ],
   "source": [
    "cadena = \"abcdefghij\"\n",
    "unido = \"-\".join(cadena)\n",
    "print (cadena)\n",
    "print (unido)"
   ]
  },
  {
   "cell_type": "markdown",
   "metadata": {},
   "source": [
    "### STRIP"
   ]
  },
  {
   "cell_type": "code",
   "execution_count": 25,
   "metadata": {},
   "outputs": [
    {
     "name": "stdout",
     "output_type": "stream",
     "text": [
      "      Hola    Mundo     \n",
      "Hola    Mundo\n",
      "-abc--def-ghi-cba----\n",
      "def-ghi\n"
     ]
    }
   ],
   "source": [
    "cadena = \"      Hola    Mundo     \"\n",
    "limpio = cadena.strip()\n",
    "print (cadena)\n",
    "print (limpio)\n",
    "cadena = \"-abc--def-ghi-cba----\"\n",
    "limpio = cadena.strip(\"bac-\")\n",
    "print (cadena)\n",
    "print (limpio)"
   ]
  },
  {
   "cell_type": "markdown",
   "metadata": {},
   "source": [
    "### REPLACE"
   ]
  },
  {
   "cell_type": "code",
   "execution_count": 26,
   "metadata": {},
   "outputs": [
    {
     "name": "stdout",
     "output_type": "stream",
     "text": [
      "Me gusta programar en JS, Amo JS\n",
      "Me gusta programar en Python, Amo Python\n"
     ]
    }
   ],
   "source": [
    "cadena = \"Me gusta programar en JS, Amo JS\"\n",
    "reemplazado = cadena.replace(\"JS\", \"Python\")\n",
    "print (cadena)\n",
    "print (reemplazado)"
   ]
  },
  {
   "cell_type": "markdown",
   "metadata": {},
   "source": [
    "### FORMAT"
   ]
  },
  {
   "cell_type": "code",
   "execution_count": 28,
   "metadata": {},
   "outputs": [
    {
     "name": "stdout",
     "output_type": "stream",
     "text": [
      "El valor de PI es: {}\n",
      "El valor de PI es: 3.1416\n",
      "Función format con f-string\n",
      "La moneda de Bolivia es el Boliviano\n"
     ]
    }
   ],
   "source": [
    "cadena = \"El valor de PI es: {}\"\n",
    "formateado = cadena.format(3.1416)\n",
    "print (cadena)\n",
    "print (formateado)\n",
    "print (\"Función format con f-string\")\n",
    "moneda = \"Boliviano\"\n",
    "pais = \"Bolivia\"\n",
    "formateado = f\"La moneda de {pais} es el {moneda}\"\n",
    "print (formateado)"
   ]
  }
 ],
 "metadata": {
  "kernelspec": {
   "display_name": "Python 3",
   "language": "python",
   "name": "python3"
  },
  "language_info": {
   "codemirror_mode": {
    "name": "ipython",
    "version": 3
   },
   "file_extension": ".py",
   "mimetype": "text/x-python",
   "name": "python",
   "nbconvert_exporter": "python",
   "pygments_lexer": "ipython3",
   "version": "3.12.3"
  }
 },
 "nbformat": 4,
 "nbformat_minor": 2
}
