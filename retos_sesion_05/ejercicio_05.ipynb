{
 "cells": [
  {
   "cell_type": "markdown",
   "metadata": {},
   "source": [
    "# Sesion  5 \n",
    "## type"
   ]
  },
  {
   "cell_type": "code",
   "execution_count": 1,
   "metadata": {},
   "outputs": [
    {
     "name": "stdout",
     "output_type": "stream",
     "text": [
      "<class 'int'>\n"
     ]
    }
   ],
   "source": [
    "print(type(1))"
   ]
  },
  {
   "cell_type": "markdown",
   "metadata": {},
   "source": [
    "## Bases del nuemro 10\n",
    "### Base Decimal"
   ]
  },
  {
   "cell_type": "code",
   "execution_count": 2,
   "metadata": {},
   "outputs": [
    {
     "name": "stdout",
     "output_type": "stream",
     "text": [
      "Base decimal\n",
      "10\n"
     ]
    }
   ],
   "source": [
    "print (\"Base decimal\")\n",
    "print (10)"
   ]
  },
  {
   "cell_type": "markdown",
   "metadata": {},
   "source": [
    "\n",
    "### Base Binaria"
   ]
  },
  {
   "cell_type": "code",
   "execution_count": 3,
   "metadata": {},
   "outputs": [
    {
     "name": "stdout",
     "output_type": "stream",
     "text": [
      "Base binaria\n",
      "10\n"
     ]
    }
   ],
   "source": [
    "print (\"Base binaria\")\n",
    "print (0b1010)\n"
   ]
  },
  {
   "cell_type": "markdown",
   "metadata": {},
   "source": [
    "### Base Octal"
   ]
  },
  {
   "cell_type": "code",
   "execution_count": 4,
   "metadata": {},
   "outputs": [
    {
     "name": "stdout",
     "output_type": "stream",
     "text": [
      "Base octal\n",
      "10\n"
     ]
    }
   ],
   "source": [
    "print (\"Base octal\")\n",
    "print (0o12)"
   ]
  },
  {
   "cell_type": "markdown",
   "metadata": {},
   "source": [
    "### Base Hexadecimal"
   ]
  },
  {
   "cell_type": "code",
   "execution_count": 5,
   "metadata": {},
   "outputs": [
    {
     "name": "stdout",
     "output_type": "stream",
     "text": [
      "Base hexadecimal\n",
      "10\n"
     ]
    }
   ],
   "source": [
    "print (\"Base hexadecimal\")\n",
    "print (0xa)\n"
   ]
  },
  {
   "cell_type": "markdown",
   "metadata": {},
   "source": [
    "## Precision de los nuemeros\n",
    "### Entero"
   ]
  },
  {
   "cell_type": "code",
   "execution_count": 6,
   "metadata": {},
   "outputs": [
    {
     "name": "stdout",
     "output_type": "stream",
     "text": [
      "123456789012345678901234567890123456789012345678901234567890\n",
      "<class 'int'>\n"
     ]
    }
   ],
   "source": [
    "variable_3 = 123456789012345678901234567890123456789012345678901234567890\n",
    "print (variable_3)\n",
    "print ( type (variable_3) )\n"
   ]
  },
  {
   "cell_type": "markdown",
   "metadata": {},
   "source": [
    "### Float\n"
   ]
  },
  {
   "cell_type": "code",
   "execution_count": 7,
   "metadata": {},
   "outputs": [
    {
     "name": "stdout",
     "output_type": "stream",
     "text": [
      "0.100546\n",
      "<class 'float'>\n",
      "1.0\n",
      "<class 'float'>\n",
      "0.9999999999999999\n",
      "<class 'float'>\n",
      "0.002\n",
      "<class 'float'>\n"
     ]
    }
   ],
   "source": [
    "# Variable 0.100546 Flotante\n",
    "variable_4 = 0.100546\n",
    "print (variable_4)\n",
    "print ( type (variable_4) )\n",
    "\n",
    "# Variable 1 Flotante\n",
    "variable_7 = float (1)\n",
    "print(variable_7)\n",
    "print ( type (variable_7) )\n",
    "\n",
    "# Precisión de 17 decimales\n",
    "variable_5 = 0.9999999999999999\n",
    "print(variable_5)\n",
    "print ( type (variable_5) )\n",
    "\n",
    "# Valor 2.0e-3 Flotante\n",
    "variable_6 = 2.0e-3\n",
    "print(variable_6)\n",
    "print ( type (variable_6) )\n"
   ]
  },
  {
   "cell_type": "markdown",
   "metadata": {},
   "source": [
    "## Operadores Aritmeticos"
   ]
  },
  {
   "cell_type": "code",
   "execution_count": 8,
   "metadata": {},
   "outputs": [
    {
     "name": "stdout",
     "output_type": "stream",
     "text": [
      "Suma\n",
      "13\n",
      "Resta\n",
      "7\n",
      "Multiplicación\n",
      "30\n",
      "División\n",
      "3.3333333333333335\n",
      "Potencia\n",
      "1000\n",
      "Módulo o residuo\n",
      "1\n",
      "División entera\n",
      "3\n"
     ]
    }
   ],
   "source": [
    "# Operadores aritméticos\n",
    "a = 10\n",
    "b = 3\n",
    "# Suma\n",
    "print (\"Suma\")\n",
    "print (a + b)\n",
    "# Resta\n",
    "print (\"Resta\")\n",
    "print (a - b)\n",
    "# Multiplicación\n",
    "print (\"Multiplicación\")\n",
    "print (a * b)\n",
    "# División\n",
    "print (\"División\")\n",
    "print (a / b)\n",
    "# Potencia\n",
    "print (\"Potencia\")\n",
    "print (a ** b)\n",
    "# Módulo o residuo\n",
    "print (\"Módulo o residuo\")\n",
    "print (a % b)\n",
    "# División entera\n",
    "print (\"División entera\")\n",
    "print (a // b)"
   ]
  },
  {
   "cell_type": "markdown",
   "metadata": {},
   "source": [
    "### Operadores de compracion"
   ]
  },
  {
   "cell_type": "code",
   "execution_count": 9,
   "metadata": {},
   "outputs": [
    {
     "name": "stdout",
     "output_type": "stream",
     "text": [
      "False\n",
      "False\n",
      "True\n",
      "True\n",
      "True\n",
      "False\n"
     ]
    }
   ],
   "source": [
    "comparar = 10\n",
    "print (comparar < 10)\n",
    "print (comparar > 10)\n",
    "print (comparar == 10)\n",
    "print (comparar <= 10)\n",
    "print (comparar >= 10)\n",
    "print (comparar != 10)\n"
   ]
  },
  {
   "cell_type": "markdown",
   "metadata": {},
   "source": [
    "### Operadores de comparacion int-float"
   ]
  },
  {
   "cell_type": "code",
   "execution_count": 10,
   "metadata": {},
   "outputs": [
    {
     "name": "stdout",
     "output_type": "stream",
     "text": [
      "False\n",
      "False\n",
      "True\n",
      "True\n",
      "True\n",
      "False\n"
     ]
    }
   ],
   "source": [
    "entero = 10\n",
    "flotante = 10.0\n",
    "print (entero < flotante)\n",
    "print (entero > flotante)\n",
    "print (entero == flotante)\n",
    "print (entero <= flotante)\n",
    "print (entero >= flotante)\n",
    "print (entero != flotante)\n"
   ]
  },
  {
   "cell_type": "markdown",
   "metadata": {},
   "source": [
    "### Verificar si un numero es impar"
   ]
  },
  {
   "cell_type": "code",
   "execution_count": 11,
   "metadata": {},
   "outputs": [
    {
     "name": "stdout",
     "output_type": "stream",
     "text": [
      "False\n",
      "True\n"
     ]
    }
   ],
   "source": [
    "numero = 10\n",
    "numero_1 = 10\n",
    "numero_2 = 5\n",
    "print ((numero_1 / 2)% 2 == 0)\n",
    "print ((numero_1 / 2)% 2 == 1)"
   ]
  }
 ],
 "metadata": {
  "kernelspec": {
   "display_name": "Python 3",
   "language": "python",
   "name": "python3"
  },
  "language_info": {
   "codemirror_mode": {
    "name": "ipython",
    "version": 3
   },
   "file_extension": ".py",
   "mimetype": "text/x-python",
   "name": "python",
   "nbconvert_exporter": "python",
   "pygments_lexer": "ipython3",
   "version": "3.12.3"
  }
 },
 "nbformat": 4,
 "nbformat_minor": 2
}
